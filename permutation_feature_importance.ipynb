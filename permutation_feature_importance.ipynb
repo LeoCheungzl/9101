{
 "cells": [
  {
   "cell_type": "code",
   "execution_count": null,
   "id": "f8a07eba",
   "metadata": {},
   "outputs": [],
   "source": [
    "import numpy as np\n",
    "from sklearn.metrics import accuracy_score\n",
    "\n",
    "def calculate_permutation_importance(model, X_test, y_test, n_repeats=10):\n",
    "    baseline_accuracy = accuracy_score(y_test, model.predict(X_test))\n",
    "    feature_importance_scores = np.zeros(X_test.shape[1])\n",
    "    \n",
    "    for feature_index in range(X_test.shape[1]):\n",
    "        perturbed_accuracies = []\n",
    "        for _ in range(n_repeats):\n",
    "            perturbed_test = X_test.copy()\n",
    "            np.random.shuffle(perturbed_test[:, feature_index])\n",
    "            perturbed_accuracy = accuracy_score(y_test, model.predict(perturbed_test))\n",
    "            perturbed_accuracies.append(perturbed_accuracy)\n",
    "        \n",
    "        feature_importance_scores[feature_index] = baseline_accuracy - np.mean(perturbed_accuracies)\n",
    "    \n",
    "    return feature_importance_scores\n",
    "\n",
    "importance_scores = calculate_permutation_importance(STGCNmodel, X_test, y_test)\n",
    "print(importance_scores)\n",
    "\n",
    "#通过permutation feature importance的方法来计算feature importance\n",
    "#原理是通过对特征列的数据打乱，用打乱的数据集训练新模型。用原来模型的准确率新模型的准确率来量化feature importance。\n",
    "#如果模型损失的准确率特别大，那就说明这个feature对模型特别重要。"
   ]
  }
 ],
 "metadata": {
  "kernelspec": {
   "display_name": "Python 3 (ipykernel)",
   "language": "python",
   "name": "python3"
  },
  "language_info": {
   "codemirror_mode": {
    "name": "ipython",
    "version": 3
   },
   "file_extension": ".py",
   "mimetype": "text/x-python",
   "name": "python",
   "nbconvert_exporter": "python",
   "pygments_lexer": "ipython3",
   "version": "3.11.4"
  }
 },
 "nbformat": 4,
 "nbformat_minor": 5
}
